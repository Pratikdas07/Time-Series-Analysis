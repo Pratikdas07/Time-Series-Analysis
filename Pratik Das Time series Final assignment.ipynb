{
 "cells": [
  {
   "cell_type": "code",
   "execution_count": 1,
   "id": "fc2414ee",
   "metadata": {},
   "outputs": [],
   "source": [
    "# Lets import the library and data set\n",
    "\n",
    "import pandas as pd\n",
    "import numpy as np\n",
    "import warnings\n",
    "\n",
    "warnings.filterwarnings(\"ignore\")\n"
   ]
  },
  {
   "cell_type": "code",
   "execution_count": 2,
   "id": "9f11e818",
   "metadata": {},
   "outputs": [
    {
     "data": {
      "text/html": [
       "<div>\n",
       "<style scoped>\n",
       "    .dataframe tbody tr th:only-of-type {\n",
       "        vertical-align: middle;\n",
       "    }\n",
       "\n",
       "    .dataframe tbody tr th {\n",
       "        vertical-align: top;\n",
       "    }\n",
       "\n",
       "    .dataframe thead th {\n",
       "        text-align: right;\n",
       "    }\n",
       "</style>\n",
       "<table border=\"1\" class=\"dataframe\">\n",
       "  <thead>\n",
       "    <tr style=\"text-align: right;\">\n",
       "      <th></th>\n",
       "      <th>DAX</th>\n",
       "      <th>SMI</th>\n",
       "      <th>CAC</th>\n",
       "      <th>FTSE</th>\n",
       "    </tr>\n",
       "  </thead>\n",
       "  <tbody>\n",
       "    <tr>\n",
       "      <th>0</th>\n",
       "      <td>1628.75</td>\n",
       "      <td>1678.1</td>\n",
       "      <td>1772.8</td>\n",
       "      <td>2443.6</td>\n",
       "    </tr>\n",
       "    <tr>\n",
       "      <th>1</th>\n",
       "      <td>1613.63</td>\n",
       "      <td>1688.5</td>\n",
       "      <td>1750.5</td>\n",
       "      <td>2460.2</td>\n",
       "    </tr>\n",
       "    <tr>\n",
       "      <th>2</th>\n",
       "      <td>1606.51</td>\n",
       "      <td>1678.6</td>\n",
       "      <td>1718.0</td>\n",
       "      <td>2448.2</td>\n",
       "    </tr>\n",
       "    <tr>\n",
       "      <th>3</th>\n",
       "      <td>1621.04</td>\n",
       "      <td>1684.1</td>\n",
       "      <td>1708.1</td>\n",
       "      <td>2470.4</td>\n",
       "    </tr>\n",
       "    <tr>\n",
       "      <th>4</th>\n",
       "      <td>1618.16</td>\n",
       "      <td>1686.6</td>\n",
       "      <td>1723.1</td>\n",
       "      <td>2484.7</td>\n",
       "    </tr>\n",
       "  </tbody>\n",
       "</table>\n",
       "</div>"
      ],
      "text/plain": [
       "       DAX     SMI     CAC    FTSE\n",
       "0  1628.75  1678.1  1772.8  2443.6\n",
       "1  1613.63  1688.5  1750.5  2460.2\n",
       "2  1606.51  1678.6  1718.0  2448.2\n",
       "3  1621.04  1684.1  1708.1  2470.4\n",
       "4  1618.16  1686.6  1723.1  2484.7"
      ]
     },
     "execution_count": 2,
     "metadata": {},
     "output_type": "execute_result"
    }
   ],
   "source": [
    "# Importing the data set\n",
    "\n",
    "df = pd.read_csv(r'C:\\Users\\Pratik\\Downloads\\EUStockMarket.csv')\n",
    "\n",
    "\n",
    "df.head()"
   ]
  },
  {
   "cell_type": "code",
   "execution_count": 3,
   "id": "cde1ce9e",
   "metadata": {},
   "outputs": [
    {
     "data": {
      "text/html": [
       "<div>\n",
       "<style scoped>\n",
       "    .dataframe tbody tr th:only-of-type {\n",
       "        vertical-align: middle;\n",
       "    }\n",
       "\n",
       "    .dataframe tbody tr th {\n",
       "        vertical-align: top;\n",
       "    }\n",
       "\n",
       "    .dataframe thead th {\n",
       "        text-align: right;\n",
       "    }\n",
       "</style>\n",
       "<table border=\"1\" class=\"dataframe\">\n",
       "  <thead>\n",
       "    <tr style=\"text-align: right;\">\n",
       "      <th></th>\n",
       "      <th>CAC</th>\n",
       "    </tr>\n",
       "  </thead>\n",
       "  <tbody>\n",
       "    <tr>\n",
       "      <th>0</th>\n",
       "      <td>1772.8</td>\n",
       "    </tr>\n",
       "    <tr>\n",
       "      <th>1</th>\n",
       "      <td>1750.5</td>\n",
       "    </tr>\n",
       "    <tr>\n",
       "      <th>2</th>\n",
       "      <td>1718.0</td>\n",
       "    </tr>\n",
       "    <tr>\n",
       "      <th>3</th>\n",
       "      <td>1708.1</td>\n",
       "    </tr>\n",
       "    <tr>\n",
       "      <th>4</th>\n",
       "      <td>1723.1</td>\n",
       "    </tr>\n",
       "    <tr>\n",
       "      <th>...</th>\n",
       "      <td>...</td>\n",
       "    </tr>\n",
       "    <tr>\n",
       "      <th>1855</th>\n",
       "      <td>3939.5</td>\n",
       "    </tr>\n",
       "    <tr>\n",
       "      <th>1856</th>\n",
       "      <td>3846.0</td>\n",
       "    </tr>\n",
       "    <tr>\n",
       "      <th>1857</th>\n",
       "      <td>3945.7</td>\n",
       "    </tr>\n",
       "    <tr>\n",
       "      <th>1858</th>\n",
       "      <td>3951.7</td>\n",
       "    </tr>\n",
       "    <tr>\n",
       "      <th>1859</th>\n",
       "      <td>3995.0</td>\n",
       "    </tr>\n",
       "  </tbody>\n",
       "</table>\n",
       "<p>1860 rows × 1 columns</p>\n",
       "</div>"
      ],
      "text/plain": [
       "         CAC\n",
       "0     1772.8\n",
       "1     1750.5\n",
       "2     1718.0\n",
       "3     1708.1\n",
       "4     1723.1\n",
       "...      ...\n",
       "1855  3939.5\n",
       "1856  3846.0\n",
       "1857  3945.7\n",
       "1858  3951.7\n",
       "1859  3995.0\n",
       "\n",
       "[1860 rows x 1 columns]"
      ]
     },
     "execution_count": 3,
     "metadata": {},
     "output_type": "execute_result"
    }
   ],
   "source": [
    "# Select the stock price of CAC\n",
    "\n",
    "df_cac = df[['CAC']]\n",
    "\n",
    "df_cac"
   ]
  },
  {
   "cell_type": "code",
   "execution_count": 4,
   "id": "84dc6312",
   "metadata": {},
   "outputs": [
    {
     "data": {
      "text/plain": [
       "[<matplotlib.lines.Line2D at 0x181a05492e0>]"
      ]
     },
     "execution_count": 4,
     "metadata": {},
     "output_type": "execute_result"
    },
    {
     "data": {
      "image/png": "[encoded data removed]",
      "text/plain": [
       "<Figure size 432x288 with 1 Axes>"
      ]
     },
     "metadata": {
      "needs_background": "light"
     },
     "output_type": "display_data"
    }
   ],
   "source": [
    "# Method a - By simply plotting\n",
    "\n",
    "from matplotlib import pyplot as plt\n",
    "\n",
    "plt.plot(df_cac)"
   ]
  },
  {
   "cell_type": "markdown",
   "id": "bc323cff",
   "metadata": {},
   "source": [
    "Here we can see that the data does not have a constant average and the average value increase every day which also indicate that the data have upward trend in it."
   ]
  },
  {
   "cell_type": "markdown",
   "id": "6eb0b62a",
   "metadata": {},
   "source": [
    "## Using ADF Test:"
   ]
  },
  {
   "cell_type": "markdown",
   "id": "2a14d20d",
   "metadata": {},
   "source": [
    "using ADF Test We can check the stationarity of Data "
   ]
  },
  {
   "cell_type": "markdown",
   "id": "6064ab76",
   "metadata": {},
   "source": [
    "Using dikey-fuller test - In this test of hypothesis, the null hypothesis is that the time series is not stationary and alternative hypothesis is that the time series is stationary. The test is perform by default under 0.05 significance level.\n",
    "\n",
    "From the test we check the p-value and if: a) p-value of test > 0.05 - Accept the null hypothesis b) p-value of test < 0.05 - Reject the null hypothesis (accept the alternative hypothesis) c) p-value of test = o.05 - Result is inconculsive in nature and we go to rolling window methods."
   ]
  },
  {
   "cell_type": "code",
   "execution_count": 6,
   "id": "3f05c136",
   "metadata": {},
   "outputs": [],
   "source": [
    "from statsmodels.tsa.stattools import adfuller\n",
    "result = adfuller(df['CAC'])"
   ]
  },
  {
   "cell_type": "code",
   "execution_count": 7,
   "id": "8a54fb7b",
   "metadata": {},
   "outputs": [
    {
     "name": "stdout",
     "output_type": "stream",
     "text": [
      "Test Statistics: 1.2864127770475973\n",
      "p-value: 0.9965317660326687\n",
      "Critial Values: {'1%': -3.4339050685840564, '5%': -2.8631103639464617, '10%': -2.56760600704281}\n",
      "Series is not Stationary\n"
     ]
    }
   ],
   "source": [
    "print(f'Test Statistics: {result[0]}')\n",
    "print(f'p-value: {result[1]}')\n",
    "print(f'Critial Values: {result[4]}') ## {} to get list of the critical values\n",
    "\n",
    "if result[1] > 0.05 :\n",
    "  print('Series is not Stationary')\n",
    "else:\n",
    "  print('Series is Stationary')"
   ]
  },
  {
   "cell_type": "markdown",
   "id": "38f2b331",
   "metadata": {},
   "source": [
    "Convert the non-stationary data to stationary by the method of differencing:\n",
    "Method . Differencing y(t) = y(t)-y(t-1)"
   ]
  },
  {
   "cell_type": "code",
   "execution_count": 8,
   "id": "a1dae32a",
   "metadata": {},
   "outputs": [
    {
     "data": {
      "text/html": [
       "<div>\n",
       "<style scoped>\n",
       "    .dataframe tbody tr th:only-of-type {\n",
       "        vertical-align: middle;\n",
       "    }\n",
       "\n",
       "    .dataframe tbody tr th {\n",
       "        vertical-align: top;\n",
       "    }\n",
       "\n",
       "    .dataframe thead th {\n",
       "        text-align: right;\n",
       "    }\n",
       "</style>\n",
       "<table border=\"1\" class=\"dataframe\">\n",
       "  <thead>\n",
       "    <tr style=\"text-align: right;\">\n",
       "      <th></th>\n",
       "      <th>CAC</th>\n",
       "    </tr>\n",
       "  </thead>\n",
       "  <tbody>\n",
       "    <tr>\n",
       "      <th>0</th>\n",
       "      <td>7.480315</td>\n",
       "    </tr>\n",
       "    <tr>\n",
       "      <th>1</th>\n",
       "      <td>7.467657</td>\n",
       "    </tr>\n",
       "    <tr>\n",
       "      <th>2</th>\n",
       "      <td>7.448916</td>\n",
       "    </tr>\n",
       "    <tr>\n",
       "      <th>3</th>\n",
       "      <td>7.443137</td>\n",
       "    </tr>\n",
       "    <tr>\n",
       "      <th>4</th>\n",
       "      <td>7.451880</td>\n",
       "    </tr>\n",
       "    <tr>\n",
       "      <th>...</th>\n",
       "      <td>...</td>\n",
       "    </tr>\n",
       "    <tr>\n",
       "      <th>1855</th>\n",
       "      <td>8.278809</td>\n",
       "    </tr>\n",
       "    <tr>\n",
       "      <th>1856</th>\n",
       "      <td>8.254789</td>\n",
       "    </tr>\n",
       "    <tr>\n",
       "      <th>1857</th>\n",
       "      <td>8.280382</td>\n",
       "    </tr>\n",
       "    <tr>\n",
       "      <th>1858</th>\n",
       "      <td>8.281901</td>\n",
       "    </tr>\n",
       "    <tr>\n",
       "      <th>1859</th>\n",
       "      <td>8.292799</td>\n",
       "    </tr>\n",
       "  </tbody>\n",
       "</table>\n",
       "<p>1860 rows × 1 columns</p>\n",
       "</div>"
      ],
      "text/plain": [
       "           CAC\n",
       "0     7.480315\n",
       "1     7.467657\n",
       "2     7.448916\n",
       "3     7.443137\n",
       "4     7.451880\n",
       "...        ...\n",
       "1855  8.278809\n",
       "1856  8.254789\n",
       "1857  8.280382\n",
       "1858  8.281901\n",
       "1859  8.292799\n",
       "\n",
       "[1860 rows x 1 columns]"
      ]
     },
     "execution_count": 8,
     "metadata": {},
     "output_type": "execute_result"
    }
   ],
   "source": [
    "# Lets peform the log tranformation\n",
    "\n",
    "log_ts = np.log(df_cac)\n",
    "\n",
    "log_ts"
   ]
  },
  {
   "cell_type": "code",
   "execution_count": 9,
   "id": "1f9fa214",
   "metadata": {},
   "outputs": [
    {
     "data": {
      "text/plain": [
       "[<matplotlib.lines.Line2D at 0x181a38630d0>]"
      ]
     },
     "execution_count": 9,
     "metadata": {},
     "output_type": "execute_result"
    },
    {
     "data": {
      "image/png": "[encoded data removed]",
      "text/plain": [
       "<Figure size 432x288 with 1 Axes>"
      ]
     },
     "metadata": {
      "needs_background": "light"
     },
     "output_type": "display_data"
    }
   ],
   "source": [
    "# Method a) differencing the time series - This can be done using shift()\n",
    "\n",
    "diff1_ts = log_ts - log_ts.shift()\n",
    "\n",
    "# Lets plot the diff1_ts\n",
    "\n",
    "plt.plot(diff1_ts)"
   ]
  },
  {
   "cell_type": "markdown",
   "id": "7f44dc9b",
   "metadata": {},
   "source": [
    "As from the above plot it look like that its a stationary time series but we can not be 100% sure thus we use dikey-fuller test"
   ]
  },
  {
   "cell_type": "code",
   "execution_count": 11,
   "id": "34ded84d",
   "metadata": {},
   "outputs": [
    {
     "data": {
      "text/plain": [
       "(-41.82603216628819,\n",
       " 0.0,\n",
       " 0,\n",
       " 1858,\n",
       " {'1%': -3.433874411978076,\n",
       "  '5%': -2.8630968301361275,\n",
       "  '10%': -2.567598800775398},\n",
       " -11303.259591405535)"
      ]
     },
     "execution_count": 11,
     "metadata": {},
     "output_type": "execute_result"
    }
   ],
   "source": [
    "# Lets apply this test on diff1_ts\n",
    "\n",
    "# as differencing the time series would have brought null value, lets drop them from the series\n",
    "\n",
    "diff1_ts.dropna(inplace = True)\n",
    "\n",
    "result1 = adfuller(diff1_ts)\n",
    "result1"
   ]
  },
  {
   "cell_type": "code",
   "execution_count": 12,
   "id": "b1e1d44c",
   "metadata": {},
   "outputs": [
    {
     "name": "stdout",
     "output_type": "stream",
     "text": [
      "Test Statistics: -41.82603216628819\n",
      "p-value: 0.0\n",
      "Critial Values: {'1%': -3.433874411978076, '5%': -2.8630968301361275, '10%': -2.567598800775398}\n",
      "Series is Stationary\n"
     ]
    }
   ],
   "source": [
    "print(f'Test Statistics: {result1[0]}')\n",
    "print(f'p-value: {result1[1]}')\n",
    "print(f'Critial Values: {result1[4]}') ## {} to get list of the critical values\n",
    "\n",
    "if result1[1] > 0.05 :\n",
    "  print('Series is not Stationary')\n",
    "else:\n",
    "  print('Series is Stationary')"
   ]
  },
  {
   "cell_type": "code",
   "execution_count": 16,
   "id": "016e3e57",
   "metadata": {},
   "outputs": [
    {
     "data": {
      "image/png": "[encoded data removed]",
      "text/plain": [
       "<Figure size 432x288 with 1 Axes>"
      ]
     },
     "execution_count": 16,
     "metadata": {},
     "output_type": "execute_result"
    },
    {
     "data": {
      "image/png": "[encoded data removed]",
      "text/plain": [
       "<Figure size 432x288 with 1 Axes>"
      ]
     },
     "metadata": {
      "needs_background": "light"
     },
     "output_type": "display_data"
    }
   ],
   "source": [
    "# Lets plot the ACF chart\n",
    "\n",
    "from statsmodels.graphics.tsaplots import plot_acf,plot_pacf\n",
    "\n",
    "plot_acf(diff1_ts, lags = 10)"
   ]
  },
  {
   "cell_type": "markdown",
   "id": "c5755d95",
   "metadata": {},
   "source": [
    "As we can See that at lag 1 we can see that correlation coefficient value is nearly 0 or slightly positive so we can use AR Model but we can not surely conclude that so we plot both the Model\n",
    "\n",
    "1st Model - AR model with p = 1, d, q = 0\n",
    "\n",
    "2nd Model - MA model with p = 0, d, q = 1"
   ]
  },
  {
   "cell_type": "code",
   "execution_count": 17,
   "id": "b40e52ef",
   "metadata": {},
   "outputs": [
    {
     "data": {
      "text/html": [
       "<table class=\"simpletable\">\n",
       "<caption>ARIMA Model Results</caption>\n",
       "<tr>\n",
       "  <th>Dep. Variable:</th>       <td>D.CAC</td>      <th>  No. Observations:  </th>    <td>1859</td>   \n",
       "</tr>\n",
       "<tr>\n",
       "  <th>Model:</th>          <td>ARIMA(1, 1, 0)</td>  <th>  Log Likelihood     </th>  <td>5742.133</td> \n",
       "</tr>\n",
       "<tr>\n",
       "  <th>Method:</th>             <td>css-mle</td>     <th>  S.D. of innovations</th>    <td>0.011</td>  \n",
       "</tr>\n",
       "<tr>\n",
       "  <th>Date:</th>          <td>Sat, 26 Feb 2022</td> <th>  AIC                </th> <td>-11478.265</td>\n",
       "</tr>\n",
       "<tr>\n",
       "  <th>Time:</th>              <td>17:21:18</td>     <th>  BIC                </th> <td>-11461.682</td>\n",
       "</tr>\n",
       "<tr>\n",
       "  <th>Sample:</th>                <td>1</td>        <th>  HQIC               </th> <td>-11472.154</td>\n",
       "</tr>\n",
       "<tr>\n",
       "  <th></th>                       <td> </td>        <th>                     </th>      <td> </td>    \n",
       "</tr>\n",
       "</table>\n",
       "<table class=\"simpletable\">\n",
       "<tr>\n",
       "       <td></td>          <th>coef</th>     <th>std err</th>      <th>z</th>      <th>P>|z|</th>  <th>[0.025</th>    <th>0.975]</th>  \n",
       "</tr>\n",
       "<tr>\n",
       "  <th>const</th>       <td>    0.0004</td> <td>    0.000</td> <td>    1.659</td> <td> 0.097</td> <td>-7.94e-05</td> <td>    0.001</td>\n",
       "</tr>\n",
       "<tr>\n",
       "  <th>ar.L1.D.CAC</th> <td>    0.0297</td> <td>    0.023</td> <td>    1.281</td> <td> 0.200</td> <td>   -0.016</td> <td>    0.075</td>\n",
       "</tr>\n",
       "</table>\n",
       "<table class=\"simpletable\">\n",
       "<caption>Roots</caption>\n",
       "<tr>\n",
       "    <td></td>   <th>            Real</th>  <th>         Imaginary</th> <th>         Modulus</th>  <th>        Frequency</th>\n",
       "</tr>\n",
       "<tr>\n",
       "  <th>AR.1</th> <td>          33.6638</td> <td>          +0.0000j</td> <td>          33.6638</td> <td>           0.0000</td>\n",
       "</tr>\n",
       "</table>"
      ],
      "text/plain": [
       "<class 'statsmodels.iolib.summary.Summary'>\n",
       "\"\"\"\n",
       "                             ARIMA Model Results                              \n",
       "==============================================================================\n",
       "Dep. Variable:                  D.CAC   No. Observations:                 1859\n",
       "Model:                 ARIMA(1, 1, 0)   Log Likelihood                5742.133\n",
       "Method:                       css-mle   S.D. of innovations              0.011\n",
       "Date:                Sat, 26 Feb 2022   AIC                         -11478.265\n",
       "Time:                        17:21:18   BIC                         -11461.682\n",
       "Sample:                             1   HQIC                        -11472.154\n",
       "                                                                              \n",
       "===============================================================================\n",
       "                  coef    std err          z      P>|z|      [0.025      0.975]\n",
       "-------------------------------------------------------------------------------\n",
       "const           0.0004      0.000      1.659      0.097   -7.94e-05       0.001\n",
       "ar.L1.D.CAC     0.0297      0.023      1.281      0.200      -0.016       0.075\n",
       "                                    Roots                                    \n",
       "=============================================================================\n",
       "                  Real          Imaginary           Modulus         Frequency\n",
       "-----------------------------------------------------------------------------\n",
       "AR.1           33.6638           +0.0000j           33.6638            0.0000\n",
       "-----------------------------------------------------------------------------\n",
       "\"\"\""
      ]
     },
     "execution_count": 17,
     "metadata": {},
     "output_type": "execute_result"
    }
   ],
   "source": [
    "# Lets build the 1st ARIMA model - AR Model with p = 1, d = 1, q = 0\n",
    "\n",
    "from statsmodels.tsa.arima_model import ARIMA\n",
    "\n",
    "\n",
    "# Lets build the model\n",
    "\n",
    "model_AR = ARIMA(log_ts, order = (1,1,0))\n",
    "\n",
    "# Lets fit this model to get the summary of the model\n",
    "\n",
    "summary_model_AR = model_AR.fit(disp = False)\n",
    "\n",
    "summary_model_AR.summary()"
   ]
  },
  {
   "cell_type": "code",
   "execution_count": 18,
   "id": "cc3489de",
   "metadata": {},
   "outputs": [
    {
     "data": {
      "text/html": [
       "<table class=\"simpletable\">\n",
       "<caption>ARIMA Model Results</caption>\n",
       "<tr>\n",
       "  <th>Dep. Variable:</th>       <td>D.CAC</td>      <th>  No. Observations:  </th>    <td>1859</td>   \n",
       "</tr>\n",
       "<tr>\n",
       "  <th>Model:</th>          <td>ARIMA(0, 1, 1)</td>  <th>  Log Likelihood     </th>  <td>5742.126</td> \n",
       "</tr>\n",
       "<tr>\n",
       "  <th>Method:</th>             <td>css-mle</td>     <th>  S.D. of innovations</th>    <td>0.011</td>  \n",
       "</tr>\n",
       "<tr>\n",
       "  <th>Date:</th>          <td>Sat, 26 Feb 2022</td> <th>  AIC                </th> <td>-11478.251</td>\n",
       "</tr>\n",
       "<tr>\n",
       "  <th>Time:</th>              <td>17:22:58</td>     <th>  BIC                </th> <td>-11461.668</td>\n",
       "</tr>\n",
       "<tr>\n",
       "  <th>Sample:</th>                <td>1</td>        <th>  HQIC               </th> <td>-11472.140</td>\n",
       "</tr>\n",
       "<tr>\n",
       "  <th></th>                       <td> </td>        <th>                     </th>      <td> </td>    \n",
       "</tr>\n",
       "</table>\n",
       "<table class=\"simpletable\">\n",
       "<tr>\n",
       "       <td></td>          <th>coef</th>     <th>std err</th>      <th>z</th>      <th>P>|z|</th>  <th>[0.025</th>    <th>0.975]</th>  \n",
       "</tr>\n",
       "<tr>\n",
       "  <th>const</th>       <td>    0.0004</td> <td>    0.000</td> <td>    1.661</td> <td> 0.097</td> <td>-7.88e-05</td> <td>    0.001</td>\n",
       "</tr>\n",
       "<tr>\n",
       "  <th>ma.L1.D.CAC</th> <td>    0.0294</td> <td>    0.023</td> <td>    1.278</td> <td> 0.201</td> <td>   -0.016</td> <td>    0.075</td>\n",
       "</tr>\n",
       "</table>\n",
       "<table class=\"simpletable\">\n",
       "<caption>Roots</caption>\n",
       "<tr>\n",
       "    <td></td>   <th>            Real</th>  <th>         Imaginary</th> <th>         Modulus</th>  <th>        Frequency</th>\n",
       "</tr>\n",
       "<tr>\n",
       "  <th>MA.1</th> <td>         -34.0042</td> <td>          +0.0000j</td> <td>          34.0042</td> <td>           0.5000</td>\n",
       "</tr>\n",
       "</table>"
      ],
      "text/plain": [
       "<class 'statsmodels.iolib.summary.Summary'>\n",
       "\"\"\"\n",
       "                             ARIMA Model Results                              \n",
       "==============================================================================\n",
       "Dep. Variable:                  D.CAC   No. Observations:                 1859\n",
       "Model:                 ARIMA(0, 1, 1)   Log Likelihood                5742.126\n",
       "Method:                       css-mle   S.D. of innovations              0.011\n",
       "Date:                Sat, 26 Feb 2022   AIC                         -11478.251\n",
       "Time:                        17:22:58   BIC                         -11461.668\n",
       "Sample:                             1   HQIC                        -11472.140\n",
       "                                                                              \n",
       "===============================================================================\n",
       "                  coef    std err          z      P>|z|      [0.025      0.975]\n",
       "-------------------------------------------------------------------------------\n",
       "const           0.0004      0.000      1.661      0.097   -7.88e-05       0.001\n",
       "ma.L1.D.CAC     0.0294      0.023      1.278      0.201      -0.016       0.075\n",
       "                                    Roots                                    \n",
       "=============================================================================\n",
       "                  Real          Imaginary           Modulus         Frequency\n",
       "-----------------------------------------------------------------------------\n",
       "MA.1          -34.0042           +0.0000j           34.0042            0.5000\n",
       "-----------------------------------------------------------------------------\n",
       "\"\"\""
      ]
     },
     "execution_count": 18,
     "metadata": {},
     "output_type": "execute_result"
    }
   ],
   "source": [
    "# Lets build the 2nd Model - MA model with p = 0, d = 1, q = 1\n",
    "\n",
    "model_MA = ARIMA(log_ts, order = (0,1,1))\n",
    "\n",
    "# Lets fit this model to get the summary of the model\n",
    "\n",
    "summary_model_MA = model_MA.fit(disp = False)\n",
    "\n",
    "summary_model_MA.summary()"
   ]
  },
  {
   "cell_type": "markdown",
   "id": "a6eef5ac",
   "metadata": {},
   "source": [
    "The AIC value for AR model is -11478.265 and the AIC value for MA model is -11478.251. Thus, AR model have the least AIC value and will be the best model to forecast the time series data."
   ]
  },
  {
   "cell_type": "markdown",
   "id": "528ea6ed",
   "metadata": {},
   "source": [
    "so we have to predict next 520days so my Data point will be(1880+520)=2380"
   ]
  },
  {
   "cell_type": "code",
   "execution_count": 20,
   "id": "09e07d1b",
   "metadata": {},
   "outputs": [
    {
     "data": {
      "image/png": "[encoded data removed]",
      "text/plain": [
       "<Figure size 432x288 with 1 Axes>"
      ]
     },
     "execution_count": 20,
     "metadata": {},
     "output_type": "execute_result"
    },
    {
     "data": {
      "image/png": "[encoded data removed]",
      "text/plain": [
       "<Figure size 432x288 with 1 Axes>"
      ]
     },
     "metadata": {
      "needs_background": "light"
     },
     "output_type": "display_data"
    }
   ],
   "source": [
    "# Predict the values\n",
    "\n",
    "summary_model_AR.plot_predict(2,2380)"
   ]
  },
  {
   "cell_type": "markdown",
   "id": "b89080fd",
   "metadata": {},
   "source": [
    "Output:\n",
    "    \n",
    "Average Stock Pricr for Next 520 days will be arround np.exp(8.4)~ 4450 with 95% confidence level.I can say that rane will be \n",
    "between np.exp(8) ~ 2980 and np.exp(9) ~ 8103"
   ]
  },
  {
   "cell_type": "code",
   "execution_count": 26,
   "id": "113dd2f3",
   "metadata": {},
   "outputs": [
    {
     "data": {
      "text/plain": [
       "2980.9579870417283"
      ]
     },
     "execution_count": 26,
     "metadata": {},
     "output_type": "execute_result"
    }
   ],
   "source": [
    "np.exp(8)"
   ]
  },
  {
   "cell_type": "code",
   "execution_count": null,
   "id": "cd121645",
   "metadata": {},
   "outputs": [],
   "source": []
  }
 ],
 "metadata": {
  "kernelspec": {
   "display_name": "Python 3 (ipykernel)",
   "language": "python",
   "name": "python3"
  },
  "language_info": {
   "codemirror_mode": {
    "name": "ipython",
    "version": 3
   },
   "file_extension": ".py",
   "mimetype": "text/x-python",
   "name": "python",
   "nbconvert_exporter": "python",
   "pygments_lexer": "ipython3",
   "version": "3.9.7"
  }
 },
 "nbformat": 4,
 "nbformat_minor": 5
}
